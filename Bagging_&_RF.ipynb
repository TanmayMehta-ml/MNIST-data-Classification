{
  "nbformat": 4,
  "nbformat_minor": 0,
  "metadata": {
    "colab": {
      "name": "Bagging & RF",
      "provenance": [],
      "authorship_tag": "ABX9TyPBo9leAV6ZBxcPdowiv0rP"
    },
    "kernelspec": {
      "name": "python3",
      "display_name": "Python 3"
    },
    "language_info": {
      "name": "python"
    }
  },
  "cells": [
    {
      "cell_type": "markdown",
      "source": [
        "## Importing basic libraries"
      ],
      "metadata": {
        "id": "6jVltVNGkZiT"
      }
    },
    {
      "cell_type": "code",
      "execution_count": 2,
      "metadata": {
        "id": "Ca0J7M59kQWj"
      },
      "outputs": [],
      "source": [
        "import numpy as np \n",
        "import pandas as pd \n",
        "import matplotlib.pyplot as plt\n",
        "import seaborn as sns\n",
        "\n",
        "# dataset loading through mnist\n",
        "from keras.datasets import mnist\n",
        "\n",
        "#training three classifiers: decision tree, bagging and random forest.\n",
        "from sklearn.ensemble import BaggingClassifier\n",
        "from sklearn.ensemble import RandomForestClassifier\n",
        "from sklearn.tree import DecisionTreeClassifier\n",
        "\n",
        "# model selection utilitities for training and test split and cross validation\n",
        "from sklearn.model_selection import train_test_split\n",
        "from sklearn.model_selection import cross_validate\n",
        "from sklearn.model_selection import cross_val_score\n",
        "from sklearn.model_selection import ShuffleSplit\n",
        "\n",
        "\n",
        "from sklearn.metrics import confusion_matrix, ConfusionMatrixDisplay\n",
        "from sklearn.metrics import classification_report\n",
        "\n",
        "from sklearn.pipeline import Pipeline"
      ]
    },
    {
      "cell_type": "markdown",
      "source": [
        "## Loading MNIST dataset"
      ],
      "metadata": {
        "id": "j9WbWoqOkdH8"
      }
    },
    {
      "cell_type": "code",
      "source": [
        "(X_train, y_train), (X_test, y_test) = mnist.load_data()\n",
        "data = mnist.load_data()"
      ],
      "metadata": {
        "colab": {
          "base_uri": "https://localhost:8080/"
        },
        "id": "raRgx6iHkb2H",
        "outputId": "d51aafa0-1bef-4c95-b11e-722ff4d2493b"
      },
      "execution_count": 3,
      "outputs": [
        {
          "output_type": "stream",
          "name": "stdout",
          "text": [
            "Downloading data from https://storage.googleapis.com/tensorflow/tf-keras-datasets/mnist.npz\n",
            "11493376/11490434 [==============================] - 0s 0us/step\n",
            "11501568/11490434 [==============================] - 0s 0us/step\n"
          ]
        }
      ]
    },
    {
      "cell_type": "code",
      "source": [
        "plt.imshow(X_train[0])\n",
        "plt.show()"
      ],
      "metadata": {
        "colab": {
          "base_uri": "https://localhost:8080/",
          "height": 265
        },
        "id": "7_1TFWEdkeqr",
        "outputId": "88b44a67-4983-44dd-dac3-e6dd4da8718e"
      },
      "execution_count": 4,
      "outputs": [
        {
          "output_type": "display_data",
          "data": {
            "text/plain": [
              "<Figure size 432x288 with 1 Axes>"
            ],
            "image/png": "[encoded data removed]"
          },
          "metadata": {
            "needs_background": "light"
          }
        }
      ]
    },
    {
      "cell_type": "code",
      "source": [
        "print('Shape of training data : ', X_train.shape)\n",
        "print('Shape of training labels : ', y_train.shape)\n",
        "print()\n",
        "print('Shape of testing data : ', X_test.shape)\n",
        "print('Shape of testing labels : ', y_test.shape)"
      ],
      "metadata": {
        "colab": {
          "base_uri": "https://localhost:8080/"
        },
        "id": "qeqn7Q-ukfVa",
        "outputId": "4d6cb7af-8428-4613-c4f9-56f95ad3fde3"
      },
      "execution_count": 5,
      "outputs": [
        {
          "output_type": "stream",
          "name": "stdout",
          "text": [
            "Shape of training data :  (60000, 28, 28)\n",
            "Shape of training labels :  (60000,)\n",
            "\n",
            "Shape of testing data :  (10000, 28, 28)\n",
            "Shape of testing labels :  (10000,)\n"
          ]
        }
      ]
    },
    {
      "cell_type": "code",
      "source": [
        "# Flatten each input image into a vector of length 784.\n",
        "X_train = X_train.reshape(X_train.shape[0], 28*28)\n",
        "X_test = X_test.reshape(X_test.shape[0], 28*28)"
      ],
      "metadata": {
        "id": "YEcl6acHkjCq"
      },
      "execution_count": 6,
      "outputs": []
    },
    {
      "cell_type": "code",
      "source": [
        "# Normalizing\n",
        "X_train = X_train/255\n",
        "X_test = X_test/255"
      ],
      "metadata": {
        "id": "okeQqE9rkkQi"
      },
      "execution_count": 7,
      "outputs": []
    },
    {
      "cell_type": "code",
      "source": [
        "print('Shape of training data after flattening : ', X_train.shape) \n",
        "print('Shape of testing data after flattening : ', X_test.shape)"
      ],
      "metadata": {
        "colab": {
          "base_uri": "https://localhost:8080/"
        },
        "id": "mumGudVqklKe",
        "outputId": "9738c0d8-a9db-418d-8ce8-e2e53195f695"
      },
      "execution_count": 8,
      "outputs": [
        {
          "output_type": "stream",
          "name": "stdout",
          "text": [
            "Shape of training data after flattening :  (60000, 784)\n",
            "Shape of testing data after flattening :  (10000, 784)\n"
          ]
        }
      ]
    },
    {
      "cell_type": "code",
      "source": [
        "cv = ShuffleSplit(n_splits=5,test_size=0.2, random_state=42)"
      ],
      "metadata": {
        "id": "BWajdwZVkmBC"
      },
      "execution_count": 16,
      "outputs": []
    },
    {
      "cell_type": "markdown",
      "source": [
        "## Model Building"
      ],
      "metadata": {
        "id": "T-ycuvbWkn7r"
      }
    },
    {
      "cell_type": "code",
      "source": [
        "def train_classifiers(estimator, X_train, y_train, cv, name):\n",
        "    estimator.fit(X_train, y_train)\n",
        "    cv_train_score = cross_val_score(\n",
        "        estimator, X_train, y_train, cv=cv, scoring='f1_macro')\n",
        "\n",
        "    print(\n",
        "        f'On an average, {name} model has f1 score of 'f'{cv_train_score.mean():.3f} (+/-) {cv_train_score.std():.3f} on the training set')"
      ],
      "metadata": {
        "id": "KpWsnRI_km72"
      },
      "execution_count": 10,
      "outputs": []
    },
    {
      "cell_type": "code",
      "source": [
        "def eval(estimator, X_test ,y_test):\n",
        "    y_pred = estimator.predict(X_test)\n",
        "\n",
        "    print('Classification Report :')\n",
        "    print(classification_report(y_test ,y_pred))\n",
        "\n",
        "    print('Confusion Matrix : ')\n",
        "    sns.heatmap(confusion_matrix(y_test ,y_pred) ,cmap='Blues',annot=True ,cbar=True ,fmt='.5g')\n",
        "    # ConfusionMatrixDisplay.from_predictions(y_test, y_pred)\n",
        "    plt.show()"
      ],
      "metadata": {
        "id": "TexCC-tQkqNr"
      },
      "execution_count": 11,
      "outputs": []
    },
    {
      "cell_type": "markdown",
      "source": [
        "## Decision trees for MNIST multiclass classification"
      ],
      "metadata": {
        "id": "8_ifJriTkxpT"
      }
    },
    {
      "cell_type": "code",
      "source": [
        "dt_pipeline = Pipeline([('classifier', DecisionTreeClassifier())])\n",
        "\n",
        "train_classifiers(dt_pipeline, X_train,y_train, cv, 'decision tree')"
      ],
      "metadata": {
        "colab": {
          "base_uri": "https://localhost:8080/"
        },
        "id": "tPH2e9f9kwN7",
        "outputId": "ea424f43-376b-414b-999b-5f09109ff48a"
      },
      "execution_count": 12,
      "outputs": [
        {
          "output_type": "stream",
          "name": "stdout",
          "text": [
            "On an average, decision tree model has f1 score of 0.867 (+/-) 0.004 on the training set\n"
          ]
        }
      ]
    },
    {
      "cell_type": "code",
      "source": [
        "eval(dt_pipeline, X_test, y_test)"
      ],
      "metadata": {
        "colab": {
          "base_uri": "https://localhost:8080/",
          "height": 609
        },
        "id": "6KWU45MXk0gM",
        "outputId": "a8f7f8fc-c0f4-42f2-de08-bf0a53a4ccc5"
      },
      "execution_count": 13,
      "outputs": [
        {
          "output_type": "stream",
          "name": "stdout",
          "text": [
            "Classification Report :\n",
            "              precision    recall  f1-score   support\n",
            "\n",
            "           0       0.91      0.93      0.92       980\n",
            "           1       0.95      0.96      0.96      1135\n",
            "           2       0.87      0.84      0.86      1032\n",
            "           3       0.83      0.86      0.85      1010\n",
            "           4       0.87      0.88      0.87       982\n",
            "           5       0.84      0.84      0.84       892\n",
            "           6       0.88      0.89      0.89       958\n",
            "           7       0.91      0.90      0.90      1028\n",
            "           8       0.83      0.80      0.82       974\n",
            "           9       0.85      0.86      0.86      1009\n",
            "\n",
            "    accuracy                           0.88     10000\n",
            "   macro avg       0.88      0.88      0.88     10000\n",
            "weighted avg       0.88      0.88      0.88     10000\n",
            "\n",
            "Confusion Matrix : \n"
          ]
        },
        {
          "output_type": "display_data",
          "data": {
            "text/plain": [
              "<Figure size 432x288 with 2 Axes>"
            ],
            "image/png": "[encoded data removed]"
          },
          "metadata": {
            "needs_background": "light"
          }
        }
      ]
    },
    {
      "cell_type": "markdown",
      "source": [
        "## MNIST classification with Bagging"
      ],
      "metadata": {
        "id": "kd7sykMqk3Ui"
      }
    },
    {
      "cell_type": "code",
      "source": [
        "# bagging_pipeline = Pipeline([('scaler',MinMaxScaler()),('classifier',     BaggingClassifier())])\n",
        "\n",
        "bag_pipeline = Pipeline([('classifier', BaggingClassifier())])\n",
        "\n",
        "train_classifiers(bag_pipeline, X_train, y_train, cv, 'bagging')"
      ],
      "metadata": {
        "colab": {
          "base_uri": "https://localhost:8080/"
        },
        "id": "HK4ZGOuyk1j5",
        "outputId": "d943bd31-73da-416f-a680-85ae9164867d"
      },
      "execution_count": 17,
      "outputs": [
        {
          "output_type": "stream",
          "name": "stdout",
          "text": [
            "On an average, bagging model has f1 score of 0.938 (+/-) 0.005 on the training set\n"
          ]
        }
      ]
    },
    {
      "cell_type": "code",
      "source": [
        "eval(bag_pipeline, X_test, y_test)"
      ],
      "metadata": {
        "colab": {
          "base_uri": "https://localhost:8080/",
          "height": 609
        },
        "id": "ejte_sECk7eY",
        "outputId": "8aab5aad-a3eb-4704-9de2-6df75075d3c0"
      },
      "execution_count": 18,
      "outputs": [
        {
          "output_type": "stream",
          "name": "stdout",
          "text": [
            "Classification Report :\n",
            "              precision    recall  f1-score   support\n",
            "\n",
            "           0       0.94      0.99      0.96       980\n",
            "           1       0.97      0.98      0.98      1135\n",
            "           2       0.92      0.95      0.94      1032\n",
            "           3       0.93      0.92      0.93      1010\n",
            "           4       0.94      0.94      0.94       982\n",
            "           5       0.92      0.91      0.92       892\n",
            "           6       0.96      0.95      0.96       958\n",
            "           7       0.96      0.94      0.95      1028\n",
            "           8       0.92      0.91      0.92       974\n",
            "           9       0.93      0.91      0.92      1009\n",
            "\n",
            "    accuracy                           0.94     10000\n",
            "   macro avg       0.94      0.94      0.94     10000\n",
            "weighted avg       0.94      0.94      0.94     10000\n",
            "\n",
            "Confusion Matrix : \n"
          ]
        },
        {
          "output_type": "display_data",
          "data": {
            "text/plain": [
              "<Figure size 432x288 with 2 Axes>"
            ],
            "image/png": "[encoded data removed]"
          },
          "metadata": {
            "needs_background": "light"
          }
        }
      ]
    },
    {
      "cell_type": "markdown",
      "source": [
        "## Random forest for MNIST multiclass classification"
      ],
      "metadata": {
        "id": "YHSWZYAOk9-K"
      }
    },
    {
      "cell_type": "code",
      "source": [
        "rf_pipeline = Pipeline([('classifier', RandomForestClassifier())]) \n",
        "\n",
        "train_classifiers(rf_pipeline,X_train, y_train, cv, 'random forest')"
      ],
      "metadata": {
        "colab": {
          "base_uri": "https://localhost:8080/"
        },
        "id": "dwrqu0Yek8Wz",
        "outputId": "6acebd9b-a5bc-44a0-deb3-28d56fb1ec4f"
      },
      "execution_count": 19,
      "outputs": [
        {
          "output_type": "stream",
          "name": "stdout",
          "text": [
            "On an average, random forest model has f1 score of 0.967 (+/-) 0.001 on the training set\n"
          ]
        }
      ]
    },
    {
      "cell_type": "code",
      "source": [
        "eval(rf_pipeline, X_test, y_test)"
      ],
      "metadata": {
        "colab": {
          "base_uri": "https://localhost:8080/",
          "height": 609
        },
        "id": "cTCDPNnwk_ho",
        "outputId": "457340bd-3f99-4a1f-8030-97bc1bcd3539"
      },
      "execution_count": 20,
      "outputs": [
        {
          "output_type": "stream",
          "name": "stdout",
          "text": [
            "Classification Report :\n",
            "              precision    recall  f1-score   support\n",
            "\n",
            "           0       0.97      0.99      0.98       980\n",
            "           1       0.99      0.99      0.99      1135\n",
            "           2       0.96      0.97      0.96      1032\n",
            "           3       0.97      0.96      0.96      1010\n",
            "           4       0.97      0.97      0.97       982\n",
            "           5       0.97      0.96      0.97       892\n",
            "           6       0.97      0.98      0.97       958\n",
            "           7       0.97      0.96      0.97      1028\n",
            "           8       0.96      0.95      0.96       974\n",
            "           9       0.96      0.95      0.96      1009\n",
            "\n",
            "    accuracy                           0.97     10000\n",
            "   macro avg       0.97      0.97      0.97     10000\n",
            "weighted avg       0.97      0.97      0.97     10000\n",
            "\n",
            "Confusion Matrix : \n"
          ]
        },
        {
          "output_type": "display_data",
          "data": {
            "text/plain": [
              "<Figure size 432x288 with 2 Axes>"
            ],
            "image/png": "[encoded data removed]"
          },
          "metadata": {
            "needs_background": "light"
          }
        }
      ]
    },
    {
      "cell_type": "markdown",
      "source": [
        "The **decision tree classifier** is a baseline classifier, which obtained accuracy of **88%** on the test set.\n",
        "\n",
        "Using **bagging** and training the same decision tree classifier gave us an increase of 7 percentage point in the accuracy, which translates to **94%** accuracy on the test set.\n",
        "\n",
        "Finally, the **random forest classifier** pushed that further to **97%**."
      ],
      "metadata": {
        "id": "2DefLWxOlFAC"
      }
    }
  ]
}